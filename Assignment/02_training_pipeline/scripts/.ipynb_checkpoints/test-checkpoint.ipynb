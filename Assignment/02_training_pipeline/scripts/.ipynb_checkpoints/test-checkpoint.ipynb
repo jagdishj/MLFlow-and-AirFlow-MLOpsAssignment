{
 "cells": [
  {
   "cell_type": "code",
   "execution_count": 7,
   "id": "a93abdbd-b567-4b81-a755-8caed2e9cbfb",
   "metadata": {},
   "outputs": [],
   "source": [
    "import pandas as pd\n",
    "import os\n",
    "import sqlite3\n",
    "from sqlite3 import Error"
   ]
  },
  {
   "cell_type": "code",
   "execution_count": 8,
   "id": "6b824cad-ddab-4a8c-b345-1af50e0310bc",
   "metadata": {},
   "outputs": [],
   "source": [
    "from constants import * \n",
    "from utils import *"
   ]
  },
  {
   "cell_type": "code",
   "execution_count": 9,
   "id": "d21e6206-5421-44f1-bb7e-2e7bf13eb3bb",
   "metadata": {},
   "outputs": [
    {
     "name": "stdout",
     "output_type": "stream",
     "text": [
      "/home/airflow/dags/Lead_scoring_data_pipeline/\n",
      "lead_scoring_data_cleaning.db\n"
     ]
    }
   ],
   "source": [
    "print(DB_PATH)\n",
    "print(DB_FILE_NAME)"
   ]
  },
  {
   "cell_type": "code",
   "execution_count": 10,
   "id": "cc2b29b0-7631-433e-be28-d20b87115eee",
   "metadata": {},
   "outputs": [
    {
     "name": "stdout",
     "output_type": "stream",
     "text": [
      "(7, 1)\n"
     ]
    },
    {
     "data": {
      "text/html": [
       "<div>\n",
       "<style scoped>\n",
       "    .dataframe tbody tr th:only-of-type {\n",
       "        vertical-align: middle;\n",
       "    }\n",
       "\n",
       "    .dataframe tbody tr th {\n",
       "        vertical-align: top;\n",
       "    }\n",
       "\n",
       "    .dataframe thead th {\n",
       "        text-align: right;\n",
       "    }\n",
       "</style>\n",
       "<table border=\"1\" class=\"dataframe\">\n",
       "  <thead>\n",
       "    <tr style=\"text-align: right;\">\n",
       "      <th></th>\n",
       "      <th>name</th>\n",
       "    </tr>\n",
       "  </thead>\n",
       "  <tbody>\n",
       "    <tr>\n",
       "      <th>0</th>\n",
       "      <td>target</td>\n",
       "    </tr>\n",
       "    <tr>\n",
       "      <th>1</th>\n",
       "      <td>predicted_output</td>\n",
       "    </tr>\n",
       "    <tr>\n",
       "      <th>2</th>\n",
       "      <td>features</td>\n",
       "    </tr>\n",
       "    <tr>\n",
       "      <th>3</th>\n",
       "      <td>loaded_data</td>\n",
       "    </tr>\n",
       "    <tr>\n",
       "      <th>4</th>\n",
       "      <td>city_tier_mapped</td>\n",
       "    </tr>\n",
       "  </tbody>\n",
       "</table>\n",
       "</div>"
      ],
      "text/plain": [
       "               name\n",
       "0            target\n",
       "1  predicted_output\n",
       "2          features\n",
       "3       loaded_data\n",
       "4  city_tier_mapped"
      ]
     },
     "execution_count": 10,
     "metadata": {},
     "output_type": "execute_result"
    }
   ],
   "source": [
    "cnx = sqlite3.connect(DB_PATH + DB_FILE_NAME)\n",
    "df = pd.read_sql(f\"SELECT name FROM sqlite_master WHERE type='table'\", cnx)\n",
    "print(df.shape)\n",
    "df.head()"
   ]
  },
  {
   "cell_type": "code",
   "execution_count": 11,
   "id": "e90354a8-8818-47d6-ad6f-c148d34a5adc",
   "metadata": {},
   "outputs": [
    {
     "name": "stdout",
     "output_type": "stream",
     "text": [
      "(238124, 14)\n"
     ]
    },
    {
     "data": {
      "text/html": [
       "<div>\n",
       "<style scoped>\n",
       "    .dataframe tbody tr th:only-of-type {\n",
       "        vertical-align: middle;\n",
       "    }\n",
       "\n",
       "    .dataframe tbody tr th {\n",
       "        vertical-align: top;\n",
       "    }\n",
       "\n",
       "    .dataframe thead th {\n",
       "        text-align: right;\n",
       "    }\n",
       "</style>\n",
       "<table border=\"1\" class=\"dataframe\">\n",
       "  <thead>\n",
       "    <tr style=\"text-align: right;\">\n",
       "      <th></th>\n",
       "      <th>index</th>\n",
       "      <th>created_date</th>\n",
       "      <th>city_tier</th>\n",
       "      <th>first_platform_c</th>\n",
       "      <th>first_utm_medium_c</th>\n",
       "      <th>first_utm_source_c</th>\n",
       "      <th>total_leads_droppped</th>\n",
       "      <th>referred_lead</th>\n",
       "      <th>app_complete_flag</th>\n",
       "      <th>assistance_interaction</th>\n",
       "      <th>career_interaction</th>\n",
       "      <th>payment_interaction</th>\n",
       "      <th>social_interaction</th>\n",
       "      <th>syllabus_interaction</th>\n",
       "    </tr>\n",
       "  </thead>\n",
       "  <tbody>\n",
       "    <tr>\n",
       "      <th>0</th>\n",
       "      <td>0</td>\n",
       "      <td>2021-07-01 00:08:15</td>\n",
       "      <td>1.0</td>\n",
       "      <td>Level0</td>\n",
       "      <td>others</td>\n",
       "      <td>Level2</td>\n",
       "      <td>1.0</td>\n",
       "      <td>0.0</td>\n",
       "      <td>1</td>\n",
       "      <td>0.0</td>\n",
       "      <td>0.0</td>\n",
       "      <td>0.0</td>\n",
       "      <td>0.0</td>\n",
       "      <td>0.0</td>\n",
       "    </tr>\n",
       "    <tr>\n",
       "      <th>1</th>\n",
       "      <td>1</td>\n",
       "      <td>2021-07-01 00:16:43</td>\n",
       "      <td>2.0</td>\n",
       "      <td>Level3</td>\n",
       "      <td>Level0</td>\n",
       "      <td>others</td>\n",
       "      <td>1.0</td>\n",
       "      <td>0.0</td>\n",
       "      <td>1</td>\n",
       "      <td>0.0</td>\n",
       "      <td>0.0</td>\n",
       "      <td>0.0</td>\n",
       "      <td>0.0</td>\n",
       "      <td>0.0</td>\n",
       "    </tr>\n",
       "    <tr>\n",
       "      <th>2</th>\n",
       "      <td>2</td>\n",
       "      <td>2021-07-01 00:22:20</td>\n",
       "      <td>1.0</td>\n",
       "      <td>Level3</td>\n",
       "      <td>Level0</td>\n",
       "      <td>Level0</td>\n",
       "      <td>1.0</td>\n",
       "      <td>0.0</td>\n",
       "      <td>1</td>\n",
       "      <td>0.0</td>\n",
       "      <td>0.0</td>\n",
       "      <td>0.0</td>\n",
       "      <td>0.0</td>\n",
       "      <td>0.0</td>\n",
       "    </tr>\n",
       "    <tr>\n",
       "      <th>3</th>\n",
       "      <td>3</td>\n",
       "      <td>2021-07-01 00:23:13</td>\n",
       "      <td>1.0</td>\n",
       "      <td>Level1</td>\n",
       "      <td>Level3</td>\n",
       "      <td>others</td>\n",
       "      <td>2.0</td>\n",
       "      <td>0.0</td>\n",
       "      <td>0</td>\n",
       "      <td>0.0</td>\n",
       "      <td>0.0</td>\n",
       "      <td>0.0</td>\n",
       "      <td>0.0</td>\n",
       "      <td>0.0</td>\n",
       "    </tr>\n",
       "    <tr>\n",
       "      <th>4</th>\n",
       "      <td>4</td>\n",
       "      <td>2021-07-01 00:28:38</td>\n",
       "      <td>1.0</td>\n",
       "      <td>Level3</td>\n",
       "      <td>Level0</td>\n",
       "      <td>Level0</td>\n",
       "      <td>1.0</td>\n",
       "      <td>0.0</td>\n",
       "      <td>0</td>\n",
       "      <td>0.0</td>\n",
       "      <td>0.0</td>\n",
       "      <td>0.0</td>\n",
       "      <td>0.0</td>\n",
       "      <td>0.0</td>\n",
       "    </tr>\n",
       "  </tbody>\n",
       "</table>\n",
       "</div>"
      ],
      "text/plain": [
       "   index         created_date  city_tier first_platform_c first_utm_medium_c  \\\n",
       "0      0  2021-07-01 00:08:15        1.0           Level0             others   \n",
       "1      1  2021-07-01 00:16:43        2.0           Level3             Level0   \n",
       "2      2  2021-07-01 00:22:20        1.0           Level3             Level0   \n",
       "3      3  2021-07-01 00:23:13        1.0           Level1             Level3   \n",
       "4      4  2021-07-01 00:28:38        1.0           Level3             Level0   \n",
       "\n",
       "  first_utm_source_c  total_leads_droppped  referred_lead  app_complete_flag  \\\n",
       "0             Level2                   1.0            0.0                  1   \n",
       "1             others                   1.0            0.0                  1   \n",
       "2             Level0                   1.0            0.0                  1   \n",
       "3             others                   2.0            0.0                  0   \n",
       "4             Level0                   1.0            0.0                  0   \n",
       "\n",
       "   assistance_interaction  career_interaction  payment_interaction  \\\n",
       "0                     0.0                 0.0                  0.0   \n",
       "1                     0.0                 0.0                  0.0   \n",
       "2                     0.0                 0.0                  0.0   \n",
       "3                     0.0                 0.0                  0.0   \n",
       "4                     0.0                 0.0                  0.0   \n",
       "\n",
       "   social_interaction  syllabus_interaction  \n",
       "0                 0.0                   0.0  \n",
       "1                 0.0                   0.0  \n",
       "2                 0.0                   0.0  \n",
       "3                 0.0                   0.0  \n",
       "4                 0.0                   0.0  "
      ]
     },
     "execution_count": 11,
     "metadata": {},
     "output_type": "execute_result"
    }
   ],
   "source": [
    "df = pd.read_sql('select * from interactions_mapped', cnx)\n",
    "print(df.shape)\n",
    "df.head()"
   ]
  },
  {
   "cell_type": "code",
   "execution_count": 12,
   "id": "dc020a48-bf06-46eb-81ff-370e8ecc3e5a",
   "metadata": {},
   "outputs": [
    {
     "data": {
      "text/html": [
       "<div>\n",
       "<style scoped>\n",
       "    .dataframe tbody tr th:only-of-type {\n",
       "        vertical-align: middle;\n",
       "    }\n",
       "\n",
       "    .dataframe tbody tr th {\n",
       "        vertical-align: top;\n",
       "    }\n",
       "\n",
       "    .dataframe thead th {\n",
       "        text-align: right;\n",
       "    }\n",
       "</style>\n",
       "<table border=\"1\" class=\"dataframe\">\n",
       "  <thead>\n",
       "    <tr style=\"text-align: right;\">\n",
       "      <th></th>\n",
       "      <th>first_platform_c</th>\n",
       "      <th>first_utm_medium_c</th>\n",
       "      <th>first_utm_source_c</th>\n",
       "    </tr>\n",
       "  </thead>\n",
       "  <tbody>\n",
       "    <tr>\n",
       "      <th>0</th>\n",
       "      <td>Level0</td>\n",
       "      <td>others</td>\n",
       "      <td>Level2</td>\n",
       "    </tr>\n",
       "    <tr>\n",
       "      <th>1</th>\n",
       "      <td>Level3</td>\n",
       "      <td>Level0</td>\n",
       "      <td>others</td>\n",
       "    </tr>\n",
       "    <tr>\n",
       "      <th>2</th>\n",
       "      <td>Level3</td>\n",
       "      <td>Level0</td>\n",
       "      <td>Level0</td>\n",
       "    </tr>\n",
       "    <tr>\n",
       "      <th>3</th>\n",
       "      <td>Level1</td>\n",
       "      <td>Level3</td>\n",
       "      <td>others</td>\n",
       "    </tr>\n",
       "    <tr>\n",
       "      <th>4</th>\n",
       "      <td>Level3</td>\n",
       "      <td>Level0</td>\n",
       "      <td>Level0</td>\n",
       "    </tr>\n",
       "  </tbody>\n",
       "</table>\n",
       "</div>"
      ],
      "text/plain": [
       "  first_platform_c first_utm_medium_c first_utm_source_c\n",
       "0           Level0             others             Level2\n",
       "1           Level3             Level0             others\n",
       "2           Level3             Level0             Level0\n",
       "3           Level1             Level3             others\n",
       "4           Level3             Level0             Level0"
      ]
     },
     "execution_count": 12,
     "metadata": {},
     "output_type": "execute_result"
    }
   ],
   "source": [
    "encoded_df = df[FEATURES_TO_ENCODE]\n",
    "encoded_df.head()"
   ]
  },
  {
   "cell_type": "code",
   "execution_count": 13,
   "id": "853ce207-1527-4965-9fef-a2d4f0e39c09",
   "metadata": {},
   "outputs": [
    {
     "name": "stdout",
     "output_type": "stream",
     "text": [
      "['index', 'created_date', 'city_tier', 'first_platform_c', 'first_utm_medium_c', 'first_utm_source_c', 'total_leads_droppped', 'referred_lead', 'app_complete_flag', 'assistance_interaction', 'career_interaction', 'payment_interaction', 'social_interaction', 'syllabus_interaction']\n",
      "14\n"
     ]
    }
   ],
   "source": [
    "columns = df.columns.to_list()\n",
    "print(columns)\n",
    "print(len(columns))"
   ]
  },
  {
   "cell_type": "code",
   "execution_count": 14,
   "id": "4765fb6d-c2ef-4bec-920b-cc48f65ed092",
   "metadata": {},
   "outputs": [],
   "source": [
    "df_new_encoded = pd.get_dummies(df, columns = FEATURES_TO_ENCODE,drop_first=True)"
   ]
  },
  {
   "cell_type": "code",
   "execution_count": 15,
   "id": "c80abc64-78d8-4d1c-9a3b-6ee9f58d19d4",
   "metadata": {},
   "outputs": [
    {
     "name": "stdout",
     "output_type": "stream",
     "text": [
      "['index', 'created_date', 'city_tier', 'total_leads_droppped', 'referred_lead', 'app_complete_flag', 'assistance_interaction', 'career_interaction', 'payment_interaction', 'social_interaction', 'syllabus_interaction', 'first_platform_c_Level1', 'first_platform_c_Level2', 'first_platform_c_Level3', 'first_platform_c_Level7', 'first_platform_c_Level8', 'first_platform_c_others', 'first_utm_medium_c_Level1', 'first_utm_medium_c_Level2', 'first_utm_medium_c_Level3', 'first_utm_medium_c_Level7', 'first_utm_medium_c_Level8', 'first_utm_medium_c_others', 'first_utm_source_c_Level1', 'first_utm_source_c_Level2', 'first_utm_source_c_Level3', 'first_utm_source_c_Level7', 'first_utm_source_c_Level8', 'first_utm_source_c_others']\n",
      "29\n"
     ]
    }
   ],
   "source": [
    "columns = df_new_encoded.columns.to_list()\n",
    "print(columns)\n",
    "print(len(columns))"
   ]
  },
  {
   "cell_type": "code",
   "execution_count": 16,
   "id": "4b8ca068-4497-44f8-a04e-812b8e6cc376",
   "metadata": {},
   "outputs": [],
   "source": [
    "db_path=DB_PATH\n",
    "db_file_name=DB_FILE_NAME\n",
    "one_hot_encoded_features=ONE_HOT_ENCODED_FEATURES\n",
    "features_to_encode=FEATURES_TO_ENCODE\n",
    "model_config=MODEL_CONFIG\n",
    "experiment=EXPERIMENT\n",
    "tracking_uri=TRACKING_URI"
   ]
  },
  {
   "cell_type": "code",
   "execution_count": 17,
   "id": "5206440f-f1e5-4a5a-9a77-def18c4c7cd8",
   "metadata": {},
   "outputs": [
    {
     "data": {
      "text/plain": [
       "['first_platform_c', 'first_utm_medium_c', 'first_utm_source_c']"
      ]
     },
     "execution_count": 17,
     "metadata": {},
     "output_type": "execute_result"
    }
   ],
   "source": [
    "FEATURES_TO_ENCODE"
   ]
  },
  {
   "cell_type": "code",
   "execution_count": 18,
   "id": "7a50e1c7-fc2d-409f-a462-1201fdc92014",
   "metadata": {},
   "outputs": [
    {
     "name": "stdout",
     "output_type": "stream",
     "text": [
      "Data has been extracted successfully from lead_scoring_model_experimentation.\n",
      "input_data has been saved successfully to table features\n",
      "input_data has been saved successfully to table target\n",
      "input data is loaded into features and target tables successfully.\n"
     ]
    }
   ],
   "source": [
    "encode_features(db_path, db_file_name, one_hot_encoded_features, features_to_encode)"
   ]
  },
  {
   "cell_type": "code",
   "execution_count": 19,
   "id": "405e8488-bd2a-4290-a1c4-698389d5ff21",
   "metadata": {},
   "outputs": [
    {
     "name": "stdout",
     "output_type": "stream",
     "text": [
      "(7, 1)\n"
     ]
    },
    {
     "data": {
      "text/html": [
       "<div>\n",
       "<style scoped>\n",
       "    .dataframe tbody tr th:only-of-type {\n",
       "        vertical-align: middle;\n",
       "    }\n",
       "\n",
       "    .dataframe tbody tr th {\n",
       "        vertical-align: top;\n",
       "    }\n",
       "\n",
       "    .dataframe thead th {\n",
       "        text-align: right;\n",
       "    }\n",
       "</style>\n",
       "<table border=\"1\" class=\"dataframe\">\n",
       "  <thead>\n",
       "    <tr style=\"text-align: right;\">\n",
       "      <th></th>\n",
       "      <th>name</th>\n",
       "    </tr>\n",
       "  </thead>\n",
       "  <tbody>\n",
       "    <tr>\n",
       "      <th>0</th>\n",
       "      <td>predicted_output</td>\n",
       "    </tr>\n",
       "    <tr>\n",
       "      <th>1</th>\n",
       "      <td>loaded_data</td>\n",
       "    </tr>\n",
       "    <tr>\n",
       "      <th>2</th>\n",
       "      <td>city_tier_mapped</td>\n",
       "    </tr>\n",
       "    <tr>\n",
       "      <th>3</th>\n",
       "      <td>categorical_variables_mapped</td>\n",
       "    </tr>\n",
       "    <tr>\n",
       "      <th>4</th>\n",
       "      <td>interactions_mapped</td>\n",
       "    </tr>\n",
       "  </tbody>\n",
       "</table>\n",
       "</div>"
      ],
      "text/plain": [
       "                           name\n",
       "0              predicted_output\n",
       "1                   loaded_data\n",
       "2              city_tier_mapped\n",
       "3  categorical_variables_mapped\n",
       "4           interactions_mapped"
      ]
     },
     "execution_count": 19,
     "metadata": {},
     "output_type": "execute_result"
    }
   ],
   "source": [
    "df = pd.read_sql(f\"SELECT name FROM sqlite_master WHERE type='table'\", cnx)\n",
    "print(df.shape)\n",
    "df.head()"
   ]
  },
  {
   "cell_type": "code",
   "execution_count": 20,
   "id": "262113b6-cfe3-4fd2-b9e2-b792e4edcaca",
   "metadata": {},
   "outputs": [
    {
     "data": {
      "text/html": [
       "<div>\n",
       "<style scoped>\n",
       "    .dataframe tbody tr th:only-of-type {\n",
       "        vertical-align: middle;\n",
       "    }\n",
       "\n",
       "    .dataframe tbody tr th {\n",
       "        vertical-align: top;\n",
       "    }\n",
       "\n",
       "    .dataframe thead th {\n",
       "        text-align: right;\n",
       "    }\n",
       "</style>\n",
       "<table border=\"1\" class=\"dataframe\">\n",
       "  <thead>\n",
       "    <tr style=\"text-align: right;\">\n",
       "      <th></th>\n",
       "      <th>index</th>\n",
       "      <th>first_platform_c</th>\n",
       "      <th>first_utm_medium_c</th>\n",
       "      <th>first_utm_source_c</th>\n",
       "      <th>total_leads_droppped</th>\n",
       "      <th>city_tier</th>\n",
       "      <th>first_platform_c_Level8</th>\n",
       "      <th>first_platform_c_others</th>\n",
       "      <th>first_platform_c_Level2</th>\n",
       "      <th>first_utm_medium_c_others</th>\n",
       "      <th>first_utm_medium_c_Level0</th>\n",
       "      <th>first_platform_c_Level7</th>\n",
       "      <th>first_platform_c_Level0</th>\n",
       "    </tr>\n",
       "  </thead>\n",
       "  <tbody>\n",
       "    <tr>\n",
       "      <th>0</th>\n",
       "      <td>0</td>\n",
       "      <td>0</td>\n",
       "      <td>0</td>\n",
       "      <td>0</td>\n",
       "      <td>1.0</td>\n",
       "      <td>1.0</td>\n",
       "      <td>0</td>\n",
       "      <td>0</td>\n",
       "      <td>0</td>\n",
       "      <td>1</td>\n",
       "      <td>0</td>\n",
       "      <td>0</td>\n",
       "      <td>1</td>\n",
       "    </tr>\n",
       "    <tr>\n",
       "      <th>1</th>\n",
       "      <td>1</td>\n",
       "      <td>0</td>\n",
       "      <td>0</td>\n",
       "      <td>0</td>\n",
       "      <td>1.0</td>\n",
       "      <td>2.0</td>\n",
       "      <td>0</td>\n",
       "      <td>0</td>\n",
       "      <td>0</td>\n",
       "      <td>0</td>\n",
       "      <td>1</td>\n",
       "      <td>0</td>\n",
       "      <td>0</td>\n",
       "    </tr>\n",
       "    <tr>\n",
       "      <th>2</th>\n",
       "      <td>2</td>\n",
       "      <td>0</td>\n",
       "      <td>0</td>\n",
       "      <td>0</td>\n",
       "      <td>1.0</td>\n",
       "      <td>1.0</td>\n",
       "      <td>0</td>\n",
       "      <td>0</td>\n",
       "      <td>0</td>\n",
       "      <td>0</td>\n",
       "      <td>1</td>\n",
       "      <td>0</td>\n",
       "      <td>0</td>\n",
       "    </tr>\n",
       "    <tr>\n",
       "      <th>3</th>\n",
       "      <td>3</td>\n",
       "      <td>0</td>\n",
       "      <td>0</td>\n",
       "      <td>0</td>\n",
       "      <td>2.0</td>\n",
       "      <td>1.0</td>\n",
       "      <td>0</td>\n",
       "      <td>0</td>\n",
       "      <td>0</td>\n",
       "      <td>0</td>\n",
       "      <td>0</td>\n",
       "      <td>0</td>\n",
       "      <td>0</td>\n",
       "    </tr>\n",
       "    <tr>\n",
       "      <th>4</th>\n",
       "      <td>4</td>\n",
       "      <td>0</td>\n",
       "      <td>0</td>\n",
       "      <td>0</td>\n",
       "      <td>1.0</td>\n",
       "      <td>1.0</td>\n",
       "      <td>0</td>\n",
       "      <td>0</td>\n",
       "      <td>0</td>\n",
       "      <td>0</td>\n",
       "      <td>1</td>\n",
       "      <td>0</td>\n",
       "      <td>0</td>\n",
       "    </tr>\n",
       "  </tbody>\n",
       "</table>\n",
       "</div>"
      ],
      "text/plain": [
       "   index  first_platform_c  first_utm_medium_c  first_utm_source_c  \\\n",
       "0      0                 0                   0                   0   \n",
       "1      1                 0                   0                   0   \n",
       "2      2                 0                   0                   0   \n",
       "3      3                 0                   0                   0   \n",
       "4      4                 0                   0                   0   \n",
       "\n",
       "   total_leads_droppped  city_tier  first_platform_c_Level8  \\\n",
       "0                   1.0        1.0                        0   \n",
       "1                   1.0        2.0                        0   \n",
       "2                   1.0        1.0                        0   \n",
       "3                   2.0        1.0                        0   \n",
       "4                   1.0        1.0                        0   \n",
       "\n",
       "   first_platform_c_others  first_platform_c_Level2  \\\n",
       "0                        0                        0   \n",
       "1                        0                        0   \n",
       "2                        0                        0   \n",
       "3                        0                        0   \n",
       "4                        0                        0   \n",
       "\n",
       "   first_utm_medium_c_others  first_utm_medium_c_Level0  \\\n",
       "0                          1                          0   \n",
       "1                          0                          1   \n",
       "2                          0                          1   \n",
       "3                          0                          0   \n",
       "4                          0                          1   \n",
       "\n",
       "   first_platform_c_Level7  first_platform_c_Level0  \n",
       "0                        0                        1  \n",
       "1                        0                        0  \n",
       "2                        0                        0  \n",
       "3                        0                        0  \n",
       "4                        0                        0  "
      ]
     },
     "execution_count": 20,
     "metadata": {},
     "output_type": "execute_result"
    }
   ],
   "source": [
    "cnx = sqlite3.connect(db_path + db_file_name)\n",
    "X = pd.read_sql('select * from features', cnx)\n",
    "X.head()"
   ]
  },
  {
   "cell_type": "code",
   "execution_count": 21,
   "id": "b21406c4-ba32-4795-ba94-2f4bdf782909",
   "metadata": {},
   "outputs": [
    {
     "data": {
      "text/html": [
       "<div>\n",
       "<style scoped>\n",
       "    .dataframe tbody tr th:only-of-type {\n",
       "        vertical-align: middle;\n",
       "    }\n",
       "\n",
       "    .dataframe tbody tr th {\n",
       "        vertical-align: top;\n",
       "    }\n",
       "\n",
       "    .dataframe thead th {\n",
       "        text-align: right;\n",
       "    }\n",
       "</style>\n",
       "<table border=\"1\" class=\"dataframe\">\n",
       "  <thead>\n",
       "    <tr style=\"text-align: right;\">\n",
       "      <th></th>\n",
       "      <th>index</th>\n",
       "      <th>app_complete_flag</th>\n",
       "    </tr>\n",
       "  </thead>\n",
       "  <tbody>\n",
       "    <tr>\n",
       "      <th>0</th>\n",
       "      <td>0</td>\n",
       "      <td>1</td>\n",
       "    </tr>\n",
       "    <tr>\n",
       "      <th>1</th>\n",
       "      <td>1</td>\n",
       "      <td>1</td>\n",
       "    </tr>\n",
       "    <tr>\n",
       "      <th>2</th>\n",
       "      <td>2</td>\n",
       "      <td>1</td>\n",
       "    </tr>\n",
       "    <tr>\n",
       "      <th>3</th>\n",
       "      <td>3</td>\n",
       "      <td>0</td>\n",
       "    </tr>\n",
       "    <tr>\n",
       "      <th>4</th>\n",
       "      <td>4</td>\n",
       "      <td>0</td>\n",
       "    </tr>\n",
       "  </tbody>\n",
       "</table>\n",
       "</div>"
      ],
      "text/plain": [
       "   index  app_complete_flag\n",
       "0      0                  1\n",
       "1      1                  1\n",
       "2      2                  1\n",
       "3      3                  0\n",
       "4      4                  0"
      ]
     },
     "execution_count": 21,
     "metadata": {},
     "output_type": "execute_result"
    }
   ],
   "source": [
    "y = pd.read_sql('select * from target', cnx)\n",
    "y.head()"
   ]
  },
  {
   "cell_type": "code",
   "execution_count": 22,
   "id": "1b6f5ccc-1a4d-4777-8855-5277cba2b8a9",
   "metadata": {},
   "outputs": [],
   "source": [
    "## create sql lite connection and start database"
   ]
  },
  {
   "cell_type": "code",
   "execution_count": 23,
   "id": "0b80cabc-1090-4415-bc6b-d03807848e9d",
   "metadata": {},
   "outputs": [],
   "source": [
    "# create a connection and setup a SQLite database with the name \"lead_scoring_model_experimentation.db\" in \n",
    "# 'Assignment/02_training_pipeline/notebook/' location\n",
    "def create_sqlit_connection(db_path, db_file):\n",
    "    \"\"\" create a database connection to a SQLite database \"\"\"\n",
    "    conn = None\n",
    "    # opening the conncetion for creating the sqlite db\n",
    "    try:\n",
    "        conn = sqlite3.connect(db_path + db_file)\n",
    "        print(sqlite3.version)\n",
    "    # return an error if connection not established\n",
    "    except Error as e:\n",
    "        print(e)\n",
    "    # closing the connection once the database is created\n",
    "    finally:\n",
    "        if conn:\n",
    "            conn.close()\n"
   ]
  },
  {
   "cell_type": "code",
   "execution_count": 24,
   "id": "89d9e231-8064-4a1b-92a2-8be3a875f4d6",
   "metadata": {},
   "outputs": [
    {
     "name": "stdout",
     "output_type": "stream",
     "text": [
      "2.6.0\n"
     ]
    }
   ],
   "source": [
    "create_sqlit_connection(\"/home/mlruns/\",r\"Lead_scoring_mlflow_production.db\")"
   ]
  },
  {
   "cell_type": "code",
   "execution_count": 25,
   "id": "4965717e-7a54-4e2a-b7a8-2309506ae662",
   "metadata": {},
   "outputs": [],
   "source": [
    "#mlflow server --backend-store-uri='sqlite:////home/Assignment/02_training_pipeline/scripts/database/Lead_scoring_mlflow_production.db' --default-artifact-root=\"/home/Assignment/02_training_pipeline/scripts/mlruns/\" --port=6006 --host=0.0.0.0"
   ]
  },
  {
   "cell_type": "code",
   "execution_count": 26,
   "id": "6305c91d-3336-4f8f-aa0e-571d2b7950df",
   "metadata": {},
   "outputs": [],
   "source": [
    "mlflow.set_tracking_uri(\"http://0.0.0.0:6006\")"
   ]
  },
  {
   "cell_type": "code",
   "execution_count": 27,
   "id": "d05c8062-c5e5-44d1-ad06-67a6a28a65e2",
   "metadata": {},
   "outputs": [
    {
     "name": "stderr",
     "output_type": "stream",
     "text": [
      "/opt/conda/lib/python3.8/site-packages/sklearn/utils/validation.py:72: DataConversionWarning: A column-vector y was passed when a 1d array was expected. Please change the shape of y to (n_samples, ), for example using ravel().\n",
      "  return f(**kwargs)\n",
      "Registered model 'LightGBM' already exists. Creating a new version of this model...\n",
      "2022/10/24 11:53:06 INFO mlflow.tracking._model_registry.client: Waiting up to 300 seconds for model version to finish creation.                     Model name: LightGBM, version 8\n",
      "Created version '8' of model 'LightGBM'.\n"
     ]
    },
    {
     "name": "stdout",
     "output_type": "stream",
     "text": [
      "get_trained_model has been executed successfully.\n"
     ]
    }
   ],
   "source": [
    "get_trained_model(db_path, db_file_name, model_config, experiment,tracking_uri)"
   ]
  },
  {
   "cell_type": "code",
   "execution_count": null,
   "id": "e6d85daf-9e72-4814-973d-77ca1d25d1d4",
   "metadata": {},
   "outputs": [],
   "source": []
  }
 ],
 "metadata": {
  "kernelspec": {
   "display_name": "Python 3 (ipykernel)",
   "language": "python",
   "name": "python3"
  },
  "language_info": {
   "codemirror_mode": {
    "name": "ipython",
    "version": 3
   },
   "file_extension": ".py",
   "mimetype": "text/x-python",
   "name": "python",
   "nbconvert_exporter": "python",
   "pygments_lexer": "ipython3",
   "version": "3.8.12"
  }
 },
 "nbformat": 4,
 "nbformat_minor": 5
}
