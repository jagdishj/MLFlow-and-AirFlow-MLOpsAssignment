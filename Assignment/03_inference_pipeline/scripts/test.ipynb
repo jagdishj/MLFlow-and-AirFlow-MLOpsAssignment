{
 "cells": [
  {
   "cell_type": "code",
   "execution_count": 1,
   "id": "3439fda8-8030-4fee-9da0-e0a3a8c2531d",
   "metadata": {},
   "outputs": [
    {
     "name": "stdout",
     "output_type": "stream",
     "text": [
      "[\u001b[34m2022-10-24 12:16:17,750\u001b[0m] {\u001b[34mutils.py:\u001b[0m145} INFO\u001b[0m - Note: NumExpr detected 64 cores but \"NUMEXPR_MAX_THREADS\" not set, so enforcing safe limit of 8.\u001b[0m\n",
      "[\u001b[34m2022-10-24 12:16:17,751\u001b[0m] {\u001b[34mutils.py:\u001b[0m157} INFO\u001b[0m - NumExpr defaulting to 8 threads.\u001b[0m\n"
     ]
    }
   ],
   "source": [
    "from airflow import DAG\n",
    "from airflow.operators.python import PythonOperator\n",
    "from airflow.operators.bash import BashOperator\n",
    "\n",
    "from datetime import datetime, timedelta\n",
    "import sys\n",
    "import importlib.util\n",
    "from utils import *\n",
    "from constants import *\n"
   ]
  },
  {
   "cell_type": "code",
   "execution_count": 2,
   "id": "dc7acae3-6d9e-4bfe-b5a6-21bb7b2701b3",
   "metadata": {},
   "outputs": [],
   "source": [
    "def module_from_file(module_name, file_path):\n",
    "    spec = importlib.util.spec_from_file_location(module_name, file_path)\n",
    "    module = importlib.util.module_from_spec(spec)\n",
    "    spec.loader.exec_module(module)\n",
    "    return module\n"
   ]
  },
  {
   "cell_type": "code",
   "execution_count": 3,
   "id": "c709ee3b-471d-4a91-99c7-6c499e076ba2",
   "metadata": {},
   "outputs": [],
   "source": [
    "# import * does not work causing some issues, loading modules as taught in live session\n",
    "utils = module_from_file(\"utils\", \"/home/Assignment/03_inference_pipeline/scripts/utils.py\")\n",
    "constants = module_from_file(\"utils\", \"/home/Assignment/03_inference_pipeline/scripts/constants.py\") \n"
   ]
  },
  {
   "cell_type": "code",
   "execution_count": 4,
   "id": "5dddd3d9-623d-42b9-90b9-fe26c63bf73b",
   "metadata": {},
   "outputs": [],
   "source": [
    "db_path=constants.DB_PATH\n",
    "db_file_name=constants.DB_FILE_NAME\n",
    "scripts_output=constants.SCRIPTS_OUTPUT\n",
    "\n",
    "db_file_mlflow=constants.DB_FILE_MLFLOW\n",
    "tracking_uri=constants.TRACKING_URI\n",
    "\n",
    "model_name=constants.MODEL_NAME\n",
    "model_stage=constants.STAGE\n",
    "\n",
    "one_hot_encoded_features=constants.ONE_HOT_ENCODED_FEATURES\n",
    "features_to_encode=constants.FEATURES_TO_ENCODE"
   ]
  },
  {
   "cell_type": "code",
   "execution_count": 5,
   "id": "f2b89777-17b6-4788-b2e0-445d859500bf",
   "metadata": {},
   "outputs": [
    {
     "data": {
      "text/plain": [
       "'/home/airflow/dags/Lead_scoring_data_pipeline/'"
      ]
     },
     "execution_count": 5,
     "metadata": {},
     "output_type": "execute_result"
    }
   ],
   "source": [
    "db_path"
   ]
  },
  {
   "cell_type": "code",
   "execution_count": 6,
   "id": "0ed12ba8-03bc-412c-9da3-0bffcd2047cd",
   "metadata": {},
   "outputs": [
    {
     "data": {
      "text/plain": [
       "'lead_scoring_data_cleaning.db'"
      ]
     },
     "execution_count": 6,
     "metadata": {},
     "output_type": "execute_result"
    }
   ],
   "source": [
    "db_file_name"
   ]
  },
  {
   "cell_type": "code",
   "execution_count": 7,
   "id": "5bb96d50-4d22-4d32-9df2-97022b169e5e",
   "metadata": {},
   "outputs": [
    {
     "data": {
      "text/plain": [
       "'/home/Assignment/03_inference_pipeline/scripts/'"
      ]
     },
     "execution_count": 7,
     "metadata": {},
     "output_type": "execute_result"
    }
   ],
   "source": [
    "scripts_output"
   ]
  },
  {
   "cell_type": "code",
   "execution_count": 8,
   "id": "12b12a25-0905-4cf0-8f08-0853ec8efb52",
   "metadata": {},
   "outputs": [
    {
     "data": {
      "text/plain": [
       "'/home/mlruns/Lead_scoring_mlflow_production.db'"
      ]
     },
     "execution_count": 8,
     "metadata": {},
     "output_type": "execute_result"
    }
   ],
   "source": [
    "db_file_mlflow"
   ]
  },
  {
   "cell_type": "code",
   "execution_count": 9,
   "id": "bd15f42b-07a4-4e27-a494-c6259772a1d7",
   "metadata": {},
   "outputs": [
    {
     "data": {
      "text/plain": [
       "('LightGBM', 'production', 'http://0.0.0.0:6007')"
      ]
     },
     "execution_count": 9,
     "metadata": {},
     "output_type": "execute_result"
    }
   ],
   "source": [
    "model_name,model_stage,tracking_uri"
   ]
  },
  {
   "cell_type": "code",
   "execution_count": 10,
   "id": "8e4fb93d-26cb-4fae-b8ee-9f5d0822d360",
   "metadata": {},
   "outputs": [
    {
     "data": {
      "text/plain": [
       "['total_leads_droppped',\n",
       " 'city_tier',\n",
       " 'first_platform_c_Level8',\n",
       " 'first_platform_c_others',\n",
       " 'first_platform_c_Level2',\n",
       " 'first_utm_medium_c_others',\n",
       " 'first_utm_medium_c_Level13',\n",
       " 'first_utm_medium_c_Level0',\n",
       " 'first_platform_c_Level7',\n",
       " 'first_platform_c_Level0',\n",
       " 'app_complete_flag']"
      ]
     },
     "execution_count": 10,
     "metadata": {},
     "output_type": "execute_result"
    }
   ],
   "source": [
    "one_hot_encoded_features"
   ]
  },
  {
   "cell_type": "code",
   "execution_count": 11,
   "id": "0635a948-334f-411f-bdf6-865b0084a1f9",
   "metadata": {},
   "outputs": [
    {
     "data": {
      "text/plain": [
       "['first_platform_c', 'first_utm_medium_c', 'first_utm_source_c']"
      ]
     },
     "execution_count": 11,
     "metadata": {},
     "output_type": "execute_result"
    }
   ],
   "source": [
    "features_to_encode"
   ]
  },
  {
   "cell_type": "code",
   "execution_count": 12,
   "id": "755f35d1-f178-484c-a315-979199f1b95f",
   "metadata": {},
   "outputs": [],
   "source": [
    "def load_data(file_path_list):\n",
    "    data = []\n",
    "    for eachfile in file_path_list:\n",
    "        data.append(pd.read_csv(eachfile, index_col=0))\n",
    "    return data\n",
    "\n",
    "def __read_input_data(db_path, db_file_name, table_name):\n",
    "    cnx = sqlite3.connect(db_path + db_file_name)\n",
    "    df = pd.read_sql('select * from '+ table_name, cnx)\n",
    "    df.drop(columns=['level_0', 'index'], axis = 1, inplace=True, errors='ignore')\n",
    "    cnx.close()\n",
    "    print(\"Data has been extracted successfully from lead_scoring_model_experimentation.\")\n",
    "    return df\n",
    "\n",
    "def __save_data_to_db(db_path, db_file_name, input_data, table):\n",
    "    cnx = sqlite3.connect(db_path + db_file_name)\n",
    "    input_data.to_sql(name=table, con=cnx, if_exists='replace')\n",
    "    print('input_data has been saved successfully to table ' + table);\n",
    "    cnx.close()"
   ]
  },
  {
   "cell_type": "code",
   "execution_count": 13,
   "id": "d693d1ea-7b53-423d-be77-2be7ca1226b4",
   "metadata": {},
   "outputs": [
    {
     "name": "stdout",
     "output_type": "stream",
     "text": [
      "Data has been extracted successfully from lead_scoring_model_experimentation.\n",
      "input_data has been saved successfully to table features\n"
     ]
    }
   ],
   "source": [
    "encode_features(db_path, db_file_name, one_hot_encoded_features, features_to_encode)"
   ]
  },
  {
   "cell_type": "code",
   "execution_count": 14,
   "id": "d041a182-216a-46c2-8a01-d48e1b7ca22f",
   "metadata": {},
   "outputs": [
    {
     "name": "stdout",
     "output_type": "stream",
     "text": [
      "Data has been extracted successfully from lead_scoring_model_experimentation.\n"
     ]
    }
   ],
   "source": [
    "input_data = __read_input_data(db_path, db_file_name, 'features')\n",
    "source_cols = input_data.columns.to_list()"
   ]
  },
  {
   "cell_type": "code",
   "execution_count": 15,
   "id": "f076a17f-97d3-449d-899e-d68ed7c8f61f",
   "metadata": {},
   "outputs": [
    {
     "data": {
      "text/plain": [
       "['first_platform_c',\n",
       " 'first_utm_medium_c',\n",
       " 'first_utm_source_c',\n",
       " 'total_leads_droppped',\n",
       " 'city_tier',\n",
       " 'first_platform_c_Level8',\n",
       " 'first_platform_c_others',\n",
       " 'first_platform_c_Level2',\n",
       " 'first_utm_medium_c_others',\n",
       " 'first_utm_medium_c_Level0',\n",
       " 'first_platform_c_Level7',\n",
       " 'first_platform_c_Level0']"
      ]
     },
     "execution_count": 15,
     "metadata": {},
     "output_type": "execute_result"
    }
   ],
   "source": [
    "source_cols"
   ]
  },
  {
   "cell_type": "code",
   "execution_count": 16,
   "id": "55977e98-1d65-4c2e-810e-64f15ce125d2",
   "metadata": {},
   "outputs": [
    {
     "data": {
      "text/plain": [
       "'production'"
      ]
     },
     "execution_count": 16,
     "metadata": {},
     "output_type": "execute_result"
    }
   ],
   "source": [
    "model_stage"
   ]
  },
  {
   "cell_type": "code",
   "execution_count": 17,
   "id": "61845052-f5e6-44dd-bf78-0f86a570b805",
   "metadata": {},
   "outputs": [
    {
     "name": "stdout",
     "output_type": "stream",
     "text": [
      "Data has been extracted successfully from lead_scoring_model_experimentation.\n",
      "[1 0 0 ... 1 1 1]\n",
      "input_data has been saved successfully to table predicted_output\n"
     ]
    },
    {
     "data": {
      "text/plain": [
       "'Prediction is completed, saved the results into predicted_output table.'"
      ]
     },
     "execution_count": 17,
     "metadata": {},
     "output_type": "execute_result"
    }
   ],
   "source": [
    "get_models_prediction(db_path, db_file_name, model_name, model_stage, tracking_uri)"
   ]
  },
  {
   "cell_type": "code",
   "execution_count": 18,
   "id": "cffc111d-fd87-413a-9069-76b8a11e07d5",
   "metadata": {},
   "outputs": [
    {
     "name": "stdout",
     "output_type": "stream",
     "text": [
      "models:/LightGBM/production\n"
     ]
    }
   ],
   "source": [
    "model_name='LightGBM'\n",
    "model_stage='production'\n",
    "model_uri = \"models:/{model_name}/{model_stage}\".format(model_name=model_name, model_stage=model_stage)\n",
    "print(model_uri)"
   ]
  },
  {
   "cell_type": "code",
   "execution_count": 19,
   "id": "1ffbf12b-7a37-4907-9965-4a036e0291a6",
   "metadata": {},
   "outputs": [
    {
     "name": "stdout",
     "output_type": "stream",
     "text": [
      "Data has been extracted successfully from lead_scoring_model_experimentation.\n",
      "Output file has been generated successfully /home/Assignment/03_inference_pipeline/scripts/prediction_distribution_20221024121655.txt\n"
     ]
    }
   ],
   "source": [
    "prediction_ratio_check(db_path, db_file_name, scripts_output)"
   ]
  },
  {
   "cell_type": "code",
   "execution_count": 20,
   "id": "b4ac04d6-3667-42a9-94d7-fdd3f3c08702",
   "metadata": {},
   "outputs": [
    {
     "data": {
      "text/plain": [
       "['total_leads_droppped',\n",
       " 'city_tier',\n",
       " 'first_platform_c_Level8',\n",
       " 'first_platform_c_others',\n",
       " 'first_platform_c_Level2',\n",
       " 'first_utm_medium_c_others',\n",
       " 'first_utm_medium_c_Level13',\n",
       " 'first_utm_medium_c_Level0',\n",
       " 'first_platform_c_Level7',\n",
       " 'first_platform_c_Level0',\n",
       " 'app_complete_flag']"
      ]
     },
     "execution_count": 20,
     "metadata": {},
     "output_type": "execute_result"
    }
   ],
   "source": [
    "one_hot_encoded_features"
   ]
  },
  {
   "cell_type": "code",
   "execution_count": 21,
   "id": "23aede47-ffe2-41b7-8870-2d1a57b675bb",
   "metadata": {},
   "outputs": [
    {
     "name": "stdout",
     "output_type": "stream",
     "text": [
      "Data has been extracted successfully from lead_scoring_model_experimentation.\n",
      "Some of the models inputs are missing\n"
     ]
    }
   ],
   "source": [
    "input_features_check(db_path, db_file_name, one_hot_encoded_features)"
   ]
  },
  {
   "cell_type": "code",
   "execution_count": 22,
   "id": "3fbff3d4-9436-4a9d-883e-ef49235e2073",
   "metadata": {},
   "outputs": [
    {
     "name": "stdout",
     "output_type": "stream",
     "text": [
      "(238124, 13)\n"
     ]
    },
    {
     "data": {
      "text/html": [
       "<div>\n",
       "<style scoped>\n",
       "    .dataframe tbody tr th:only-of-type {\n",
       "        vertical-align: middle;\n",
       "    }\n",
       "\n",
       "    .dataframe tbody tr th {\n",
       "        vertical-align: top;\n",
       "    }\n",
       "\n",
       "    .dataframe thead th {\n",
       "        text-align: right;\n",
       "    }\n",
       "</style>\n",
       "<table border=\"1\" class=\"dataframe\">\n",
       "  <thead>\n",
       "    <tr style=\"text-align: right;\">\n",
       "      <th></th>\n",
       "      <th>index</th>\n",
       "      <th>first_platform_c</th>\n",
       "      <th>first_utm_medium_c</th>\n",
       "      <th>first_utm_source_c</th>\n",
       "      <th>total_leads_droppped</th>\n",
       "      <th>city_tier</th>\n",
       "      <th>first_platform_c_Level8</th>\n",
       "      <th>first_platform_c_others</th>\n",
       "      <th>first_platform_c_Level2</th>\n",
       "      <th>first_utm_medium_c_others</th>\n",
       "      <th>first_utm_medium_c_Level0</th>\n",
       "      <th>first_platform_c_Level7</th>\n",
       "      <th>first_platform_c_Level0</th>\n",
       "    </tr>\n",
       "  </thead>\n",
       "  <tbody>\n",
       "    <tr>\n",
       "      <th>0</th>\n",
       "      <td>0</td>\n",
       "      <td>0</td>\n",
       "      <td>0</td>\n",
       "      <td>0</td>\n",
       "      <td>1.0</td>\n",
       "      <td>1.0</td>\n",
       "      <td>0</td>\n",
       "      <td>0</td>\n",
       "      <td>0</td>\n",
       "      <td>1</td>\n",
       "      <td>0</td>\n",
       "      <td>0</td>\n",
       "      <td>1</td>\n",
       "    </tr>\n",
       "    <tr>\n",
       "      <th>1</th>\n",
       "      <td>1</td>\n",
       "      <td>0</td>\n",
       "      <td>0</td>\n",
       "      <td>0</td>\n",
       "      <td>1.0</td>\n",
       "      <td>2.0</td>\n",
       "      <td>0</td>\n",
       "      <td>0</td>\n",
       "      <td>0</td>\n",
       "      <td>0</td>\n",
       "      <td>1</td>\n",
       "      <td>0</td>\n",
       "      <td>0</td>\n",
       "    </tr>\n",
       "    <tr>\n",
       "      <th>2</th>\n",
       "      <td>2</td>\n",
       "      <td>0</td>\n",
       "      <td>0</td>\n",
       "      <td>0</td>\n",
       "      <td>1.0</td>\n",
       "      <td>1.0</td>\n",
       "      <td>0</td>\n",
       "      <td>0</td>\n",
       "      <td>0</td>\n",
       "      <td>0</td>\n",
       "      <td>1</td>\n",
       "      <td>0</td>\n",
       "      <td>0</td>\n",
       "    </tr>\n",
       "    <tr>\n",
       "      <th>3</th>\n",
       "      <td>3</td>\n",
       "      <td>0</td>\n",
       "      <td>0</td>\n",
       "      <td>0</td>\n",
       "      <td>2.0</td>\n",
       "      <td>1.0</td>\n",
       "      <td>0</td>\n",
       "      <td>0</td>\n",
       "      <td>0</td>\n",
       "      <td>0</td>\n",
       "      <td>0</td>\n",
       "      <td>0</td>\n",
       "      <td>0</td>\n",
       "    </tr>\n",
       "    <tr>\n",
       "      <th>4</th>\n",
       "      <td>4</td>\n",
       "      <td>0</td>\n",
       "      <td>0</td>\n",
       "      <td>0</td>\n",
       "      <td>1.0</td>\n",
       "      <td>1.0</td>\n",
       "      <td>0</td>\n",
       "      <td>0</td>\n",
       "      <td>0</td>\n",
       "      <td>0</td>\n",
       "      <td>1</td>\n",
       "      <td>0</td>\n",
       "      <td>0</td>\n",
       "    </tr>\n",
       "    <tr>\n",
       "      <th>5</th>\n",
       "      <td>5</td>\n",
       "      <td>0</td>\n",
       "      <td>0</td>\n",
       "      <td>0</td>\n",
       "      <td>2.0</td>\n",
       "      <td>1.0</td>\n",
       "      <td>0</td>\n",
       "      <td>0</td>\n",
       "      <td>0</td>\n",
       "      <td>0</td>\n",
       "      <td>0</td>\n",
       "      <td>0</td>\n",
       "      <td>1</td>\n",
       "    </tr>\n",
       "    <tr>\n",
       "      <th>6</th>\n",
       "      <td>6</td>\n",
       "      <td>0</td>\n",
       "      <td>0</td>\n",
       "      <td>0</td>\n",
       "      <td>3.0</td>\n",
       "      <td>1.0</td>\n",
       "      <td>0</td>\n",
       "      <td>0</td>\n",
       "      <td>0</td>\n",
       "      <td>0</td>\n",
       "      <td>1</td>\n",
       "      <td>0</td>\n",
       "      <td>0</td>\n",
       "    </tr>\n",
       "    <tr>\n",
       "      <th>7</th>\n",
       "      <td>7</td>\n",
       "      <td>0</td>\n",
       "      <td>0</td>\n",
       "      <td>0</td>\n",
       "      <td>2.0</td>\n",
       "      <td>1.0</td>\n",
       "      <td>0</td>\n",
       "      <td>0</td>\n",
       "      <td>0</td>\n",
       "      <td>0</td>\n",
       "      <td>1</td>\n",
       "      <td>0</td>\n",
       "      <td>0</td>\n",
       "    </tr>\n",
       "    <tr>\n",
       "      <th>8</th>\n",
       "      <td>8</td>\n",
       "      <td>0</td>\n",
       "      <td>0</td>\n",
       "      <td>0</td>\n",
       "      <td>1.0</td>\n",
       "      <td>1.0</td>\n",
       "      <td>0</td>\n",
       "      <td>0</td>\n",
       "      <td>0</td>\n",
       "      <td>0</td>\n",
       "      <td>0</td>\n",
       "      <td>0</td>\n",
       "      <td>1</td>\n",
       "    </tr>\n",
       "    <tr>\n",
       "      <th>9</th>\n",
       "      <td>9</td>\n",
       "      <td>0</td>\n",
       "      <td>0</td>\n",
       "      <td>0</td>\n",
       "      <td>1.0</td>\n",
       "      <td>2.0</td>\n",
       "      <td>0</td>\n",
       "      <td>0</td>\n",
       "      <td>0</td>\n",
       "      <td>1</td>\n",
       "      <td>0</td>\n",
       "      <td>0</td>\n",
       "      <td>0</td>\n",
       "    </tr>\n",
       "  </tbody>\n",
       "</table>\n",
       "</div>"
      ],
      "text/plain": [
       "   index  first_platform_c  first_utm_medium_c  first_utm_source_c  \\\n",
       "0      0                 0                   0                   0   \n",
       "1      1                 0                   0                   0   \n",
       "2      2                 0                   0                   0   \n",
       "3      3                 0                   0                   0   \n",
       "4      4                 0                   0                   0   \n",
       "5      5                 0                   0                   0   \n",
       "6      6                 0                   0                   0   \n",
       "7      7                 0                   0                   0   \n",
       "8      8                 0                   0                   0   \n",
       "9      9                 0                   0                   0   \n",
       "\n",
       "   total_leads_droppped  city_tier  first_platform_c_Level8  \\\n",
       "0                   1.0        1.0                        0   \n",
       "1                   1.0        2.0                        0   \n",
       "2                   1.0        1.0                        0   \n",
       "3                   2.0        1.0                        0   \n",
       "4                   1.0        1.0                        0   \n",
       "5                   2.0        1.0                        0   \n",
       "6                   3.0        1.0                        0   \n",
       "7                   2.0        1.0                        0   \n",
       "8                   1.0        1.0                        0   \n",
       "9                   1.0        2.0                        0   \n",
       "\n",
       "   first_platform_c_others  first_platform_c_Level2  \\\n",
       "0                        0                        0   \n",
       "1                        0                        0   \n",
       "2                        0                        0   \n",
       "3                        0                        0   \n",
       "4                        0                        0   \n",
       "5                        0                        0   \n",
       "6                        0                        0   \n",
       "7                        0                        0   \n",
       "8                        0                        0   \n",
       "9                        0                        0   \n",
       "\n",
       "   first_utm_medium_c_others  first_utm_medium_c_Level0  \\\n",
       "0                          1                          0   \n",
       "1                          0                          1   \n",
       "2                          0                          1   \n",
       "3                          0                          0   \n",
       "4                          0                          1   \n",
       "5                          0                          0   \n",
       "6                          0                          1   \n",
       "7                          0                          1   \n",
       "8                          0                          0   \n",
       "9                          1                          0   \n",
       "\n",
       "   first_platform_c_Level7  first_platform_c_Level0  \n",
       "0                        0                        1  \n",
       "1                        0                        0  \n",
       "2                        0                        0  \n",
       "3                        0                        0  \n",
       "4                        0                        0  \n",
       "5                        0                        1  \n",
       "6                        0                        0  \n",
       "7                        0                        0  \n",
       "8                        0                        1  \n",
       "9                        0                        0  "
      ]
     },
     "execution_count": 22,
     "metadata": {},
     "output_type": "execute_result"
    }
   ],
   "source": [
    "cnx = sqlite3.connect(DB_PATH + DB_FILE_NAME)\n",
    "df = pd.read_sql(f\"SELECT * FROM features\", cnx)\n",
    "print(df.shape)\n",
    "df.head(10)"
   ]
  },
  {
   "cell_type": "code",
   "execution_count": null,
   "id": "1bc570db-9418-499e-a5fe-5743517ad563",
   "metadata": {},
   "outputs": [],
   "source": []
  }
 ],
 "metadata": {
  "kernelspec": {
   "display_name": "Python 3 (ipykernel)",
   "language": "python",
   "name": "python3"
  },
  "language_info": {
   "codemirror_mode": {
    "name": "ipython",
    "version": 3
   },
   "file_extension": ".py",
   "mimetype": "text/x-python",
   "name": "python",
   "nbconvert_exporter": "python",
   "pygments_lexer": "ipython3",
   "version": "3.8.12"
  }
 },
 "nbformat": 4,
 "nbformat_minor": 5
}
